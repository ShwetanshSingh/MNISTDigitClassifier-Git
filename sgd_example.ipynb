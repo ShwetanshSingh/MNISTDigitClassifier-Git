{
 "cells": [
  {
   "cell_type": "code",
   "execution_count": 2,
   "id": "c7b1ebc4",
   "metadata": {},
   "outputs": [],
   "source": [
    "from fastai.vision.all import *\n",
    "# import pytorch"
   ]
  },
  {
   "cell_type": "markdown",
   "id": "cb172415",
   "metadata": {},
   "source": [
    "input data -> time"
   ]
  },
  {
   "cell_type": "code",
   "execution_count": 3,
   "id": "e50d672d",
   "metadata": {},
   "outputs": [
    {
     "data": {
      "text/plain": [
       "tensor([ 0.,  1.,  2.,  3.,  4.,  5.,  6.,  7.,  8.,  9., 10., 11., 12., 13.,\n",
       "        14., 15., 16., 17., 18., 19.])"
      ]
     },
     "execution_count": 3,
     "metadata": {},
     "output_type": "execute_result"
    }
   ],
   "source": [
    "time = torch.arange(0,20).float()\n",
    "time"
   ]
  },
  {
   "cell_type": "markdown",
   "id": "6593e3bf",
   "metadata": {},
   "source": [
    "actual recorded speed corresponding to time. This real time will be the labels, against which the predicted speed will be compared"
   ]
  },
  {
   "cell_type": "code",
   "execution_count": 8,
   "id": "8e4ece29",
   "metadata": {
    "scrolled": true
   },
   "outputs": [
    {
     "data": {
      "text/plain": [
       "<matplotlib.collections.PathCollection at 0x29525444b50>"
      ]
     },
     "execution_count": 8,
     "metadata": {},
     "output_type": "execute_result"
    },
    {
     "data": {
      "image/png": "[encoded data removed]",
      "text/plain": [
       "<Figure size 640x480 with 1 Axes>"
      ]
     },
     "metadata": {},
     "output_type": "display_data"
    }
   ],
   "source": [
    "random = torch.randn(20)*3\n",
    "speed = 0.75*(time - 9.5)**2 +1\n",
    "# print(speed)\n",
    "# print(temp)\n",
    "speed += random\n",
    "# plt.scatter(time,temp)\n",
    "plt.scatter(time,speed)"
   ]
  },
  {
   "cell_type": "markdown",
   "id": "e433fd52",
   "metadata": {},
   "source": [
    "the function for the model. from the above graph we can see that the model should be a quadratic function to predict speed"
   ]
  },
  {
   "cell_type": "code",
   "execution_count": 9,
   "id": "c008f960",
   "metadata": {},
   "outputs": [],
   "source": [
    "def model(t, params):\n",
    "    a,b,c = params\n",
    "    return a*(t**2) + b*t + c"
   ]
  },
  {
   "cell_type": "markdown",
   "id": "b528a6b5",
   "metadata": {},
   "source": [
    "this loss function will compare predictions and labels to tell us how good the weights or parameters in the above model are."
   ]
  },
  {
   "cell_type": "code",
   "execution_count": 22,
   "id": "300ace8c",
   "metadata": {},
   "outputs": [],
   "source": [
    "def mse_loss(preds, labels):\n",
    "    #using mse\n",
    "    return ((preds-labels)**2).mean()"
   ]
  },
  {
   "cell_type": "markdown",
   "id": "0cab5007",
   "metadata": {},
   "source": [
    "**7 step process to train model**"
   ]
  },
  {
   "cell_type": "markdown",
   "id": "8c40084c",
   "metadata": {},
   "source": [
    "1. initializing parameters or weights\n",
    "    we will also setup gradient functions"
   ]
  },
  {
   "cell_type": "code",
   "execution_count": 14,
   "id": "89015435",
   "metadata": {},
   "outputs": [
    {
     "data": {
      "text/plain": [
       "tensor([ 1.4020, -1.0793,  0.4481], requires_grad=True)"
      ]
     },
     "execution_count": 14,
     "metadata": {},
     "output_type": "execute_result"
    }
   ],
   "source": [
    "params = torch.randn(3).requires_grad_()\n",
    "params"
   ]
  },
  {
   "cell_type": "code",
   "execution_count": 15,
   "id": "ece48156",
   "metadata": {},
   "outputs": [],
   "source": [
    "orig_params = params.clone()"
   ]
  },
  {
   "cell_type": "markdown",
   "id": "ed712950",
   "metadata": {},
   "source": [
    "2. calculate predictions\n",
    "    use the model to calculate predictions"
   ]
  },
  {
   "cell_type": "code",
   "execution_count": 19,
   "id": "78050223",
   "metadata": {},
   "outputs": [],
   "source": [
    "preds = model(time, params)"
   ]
  },
  {
   "cell_type": "markdown",
   "id": "f20e46e9",
   "metadata": {},
   "source": [
    "small function to see how our predictions compare to actual labels"
   ]
  },
  {
   "cell_type": "code",
   "execution_count": 21,
   "id": "13bab281",
   "metadata": {},
   "outputs": [
    {
     "data": {
      "image/png": "[encoded data removed]",
      "text/plain": [
       "<Figure size 640x480 with 1 Axes>"
      ]
     },
     "metadata": {},
     "output_type": "display_data"
    }
   ],
   "source": [
    "def show_preds(preds, ax = None):\n",
    "    if ax is None: ax=plt.subplots()[1]\n",
    "    ax.scatter(time, speed)\n",
    "    ax.scatter(time, to_np(preds), color='red')\n",
    "    ax.set_ylim(-300,100)\n",
    "\n",
    "show_preds(preds)"
   ]
  },
  {
   "cell_type": "markdown",
   "id": "bc26705a",
   "metadata": {},
   "source": [
    "of course the random parametres are not giving a good prediction"
   ]
  },
  {
   "cell_type": "markdown",
   "id": "b08f9b64",
   "metadata": {},
   "source": [
    "3. calculate the loss\n",
    "    use the function we created above for loss"
   ]
  },
  {
   "cell_type": "code",
   "execution_count": 23,
   "id": "2c3b2e37",
   "metadata": {},
   "outputs": [
    {
     "data": {
      "text/plain": [
       "tensor(41604.2656, grad_fn=<MeanBackward0>)"
      ]
     },
     "execution_count": 23,
     "metadata": {},
     "output_type": "execute_result"
    }
   ],
   "source": [
    "loss = mse_loss(preds,speed)\n",
    "loss"
   ]
  },
  {
   "cell_type": "markdown",
   "id": "dc9e7c13",
   "metadata": {},
   "source": [
    "now the goal is to improve this loss, such that it gets lower and lower. for that we use gradient"
   ]
  },
  {
   "cell_type": "markdown",
   "id": "2ba59eaf",
   "metadata": {},
   "source": [
    "4. calculate gradients"
   ]
  },
  {
   "cell_type": "code",
   "execution_count": 24,
   "id": "654d190e",
   "metadata": {},
   "outputs": [
    {
     "data": {
      "text/plain": [
       "tensor([67876.3672,  4343.5039,   276.9193])"
      ]
     },
     "execution_count": 24,
     "metadata": {},
     "output_type": "execute_result"
    }
   ],
   "source": [
    "loss.backward()\n",
    "params.grad"
   ]
  },
  {
   "cell_type": "code",
   "execution_count": 25,
   "id": "2604d913",
   "metadata": {},
   "outputs": [
    {
     "data": {
      "text/plain": [
       "tensor([ 1.4020, -1.0793,  0.4481], requires_grad=True)"
      ]
     },
     "execution_count": 25,
     "metadata": {},
     "output_type": "execute_result"
    }
   ],
   "source": [
    "params #the parameters are still the same. No change in value yet"
   ]
  },
  {
   "cell_type": "markdown",
   "id": "94272c05",
   "metadata": {},
   "source": [
    "let us take the learning rate as 1e-5"
   ]
  },
  {
   "cell_type": "markdown",
   "id": "b87dd405",
   "metadata": {},
   "source": [
    "5. step the weights"
   ]
  },
  {
   "cell_type": "code",
   "execution_count": 28,
   "id": "ad66a72c",
   "metadata": {},
   "outputs": [],
   "source": [
    "lr = 1e-5\n",
    "# updating the parameters\n",
    "params.data -= lr*params.grad.data\n",
    "params.grad = None"
   ]
  },
  {
   "cell_type": "code",
   "execution_count": 29,
   "id": "90561083",
   "metadata": {},
   "outputs": [
    {
     "data": {
      "text/plain": [
       "tensor([ 0.7232, -1.1227,  0.4453], requires_grad=True)"
      ]
     },
     "execution_count": 29,
     "metadata": {},
     "output_type": "execute_result"
    }
   ],
   "source": [
    "params"
   ]
  },
  {
   "cell_type": "markdown",
   "id": "df9608e7",
   "metadata": {},
   "source": [
    "let us see if the loss has improved. So we calculate the predictions again and compare them with labels"
   ]
  },
  {
   "cell_type": "code",
   "execution_count": 30,
   "id": "e7f684e8",
   "metadata": {},
   "outputs": [
    {
     "data": {
      "text/plain": [
       "tensor(8411.5391, grad_fn=<MeanBackward0>)"
      ]
     },
     "execution_count": 30,
     "metadata": {},
     "output_type": "execute_result"
    }
   ],
   "source": [
    "preds = model(time,params)\n",
    "mse_loss(preds, speed)"
   ]
  },
  {
   "cell_type": "code",
   "execution_count": 31,
   "id": "62362b22",
   "metadata": {},
   "outputs": [
    {
     "data": {
      "image/png": "[encoded data removed]",
      "text/plain": [
       "<Figure size 640x480 with 1 Axes>"
      ]
     },
     "metadata": {},
     "output_type": "display_data"
    }
   ],
   "source": [
    "show_preds(preds)"
   ]
  },
  {
   "cell_type": "markdown",
   "id": "75014127",
   "metadata": {},
   "source": [
    "a little bit better. Repeat this whole process a few times"
   ]
  },
  {
   "cell_type": "code",
   "execution_count": 34,
   "id": "1da64859",
   "metadata": {},
   "outputs": [],
   "source": [
    "def apply_step(params, prn = True):\n",
    "    preds = model(time,params) # calculate predictions\n",
    "    loss = mse_loss(preds, speed) # calculate loss\n",
    "    loss.backward() # call backward on loss, or calculate gradients\n",
    "    params.data = lr*params.grad.data # take a step. update parameters according to learning rate\n",
    "    params.grad = None\n",
    "    if prn: print(loss.item())\n",
    "    return preds"
   ]
  },
  {
   "cell_type": "markdown",
   "id": "5f6331f2",
   "metadata": {},
   "source": [
    "6. repeat the whole process"
   ]
  },
  {
   "cell_type": "code",
   "execution_count": 35,
   "id": "15e9b56e",
   "metadata": {
    "scrolled": true
   },
   "outputs": [
    {
     "name": "stdout",
     "output_type": "stream",
     "text": [
      "8411.5390625\n",
      "1463.568115234375\n",
      "699.4443969726562\n",
      "1277.5712890625\n",
      "1926.5716552734375\n",
      "2396.15673828125\n",
      "2694.318115234375\n",
      "2873.263427734375\n",
      "2977.713134765625\n",
      "3037.79541015625\n"
     ]
    }
   ],
   "source": [
    "for i in range(10): apply_step(params)"
   ]
  },
  {
   "cell_type": "code",
   "execution_count": 36,
   "id": "ed815e51",
   "metadata": {},
   "outputs": [],
   "source": [
    "params = orig_params.detach().requires_grad_()"
   ]
  },
  {
   "cell_type": "markdown",
   "id": "fe9940d6",
   "metadata": {},
   "source": [
    "the loss is going down. But this is not intuitive. So we will plot the graph for each iteration."
   ]
  },
  {
   "cell_type": "code",
   "execution_count": 37,
   "id": "d3e53ba7",
   "metadata": {},
   "outputs": [
    {
     "data": {
      "image/png": "[encoded data removed]",
      "text/plain": [
       "<Figure size 1200x300 with 4 Axes>"
      ]
     },
     "metadata": {},
     "output_type": "display_data"
    }
   ],
   "source": [
    "_,axs = plt.subplots(1,4,figsize = (12,3))\n",
    "for ax in axs: show_preds(apply_step(params, False), ax)\n",
    "plt.tight_layout()"
   ]
  },
  {
   "cell_type": "markdown",
   "id": "e1cb19b4",
   "metadata": {},
   "source": [
    "for now we stop after 10 epochs arbitrarily. In practice, we would watch the training and validation losses and our metrics to decide when to stop."
   ]
  }
 ],
 "metadata": {
  "kernelspec": {
   "display_name": "Python 3 (ipykernel)",
   "language": "python",
   "name": "python3"
  },
  "language_info": {
   "codemirror_mode": {
    "name": "ipython",
    "version": 3
   },
   "file_extension": ".py",
   "mimetype": "text/x-python",
   "name": "python",
   "nbconvert_exporter": "python",
   "pygments_lexer": "ipython3",
   "version": "3.11.4"
  }
 },
 "nbformat": 4,
 "nbformat_minor": 5
}
