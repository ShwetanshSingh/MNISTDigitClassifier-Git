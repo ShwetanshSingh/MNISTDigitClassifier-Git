{
 "cells": [
  {
   "cell_type": "code",
   "execution_count": 1,
   "metadata": {},
   "outputs": [],
   "source": [
    "import pickle\n",
    "from fastai.vision.all import *"
   ]
  },
  {
   "cell_type": "markdown",
   "metadata": {},
   "source": [
    "# Data preparation"
   ]
  },
  {
   "cell_type": "code",
   "execution_count": 2,
   "metadata": {},
   "outputs": [],
   "source": [
    "path = untar_data(URLs.MNIST_SAMPLE)\n",
    "Path.BASE_PATH = path"
   ]
  },
  {
   "cell_type": "code",
   "execution_count": 3,
   "metadata": {},
   "outputs": [
    {
     "data": {
      "text/plain": [
       "(#3) [Path('labels.csv'),Path('train'),Path('valid')]"
      ]
     },
     "execution_count": 3,
     "metadata": {},
     "output_type": "execute_result"
    }
   ],
   "source": [
    "path.ls()"
   ]
  },
  {
   "cell_type": "code",
   "execution_count": 4,
   "metadata": {},
   "outputs": [
    {
     "data": {
      "text/plain": [
       "(#2) [Path('valid/3'),Path('valid/7')]"
      ]
     },
     "execution_count": 4,
     "metadata": {},
     "output_type": "execute_result"
    }
   ],
   "source": [
    "# (path/'train'/'3').ls()\n",
    "(path / \"valid\").ls()"
   ]
  },
  {
   "cell_type": "markdown",
   "metadata": {},
   "source": [
    "list of paths to all images of 3 and 7"
   ]
  },
  {
   "cell_type": "code",
   "execution_count": 5,
   "metadata": {},
   "outputs": [
    {
     "data": {
      "text/plain": [
       "(6131, 6265)"
      ]
     },
     "execution_count": 5,
     "metadata": {},
     "output_type": "execute_result"
    }
   ],
   "source": [
    "threes_path = (path / \"train/3\").ls().sorted()\n",
    "sevens_path = (path / \"train/7\").ls().sorted()\n",
    "len(threes_path), len(sevens_path)"
   ]
  },
  {
   "cell_type": "markdown",
   "metadata": {},
   "source": [
    "function to invert image (black handwriting on white)"
   ]
  },
  {
   "cell_type": "code",
   "execution_count": 6,
   "metadata": {},
   "outputs": [],
   "source": [
    "def invert_image(img):\n",
    "    # Convert PIL image to tensor, invert colors (255 - pixel_value), and return tensor\n",
    "    return 255 - tensor(img)"
   ]
  },
  {
   "cell_type": "markdown",
   "metadata": {},
   "source": [
    "tensors of all images of 3 and 7"
   ]
  },
  {
   "cell_type": "code",
   "execution_count": 7,
   "metadata": {},
   "outputs": [
    {
     "name": "stdout",
     "output_type": "stream",
     "text": [
      "Number of tensors (including inverted): 12262 12530\n"
     ]
    }
   ],
   "source": [
    "# Create tensors for both normal and inverted images\n",
    "three_tensors = []\n",
    "seven_tensors = []\n",
    "\n",
    "# Process threes\n",
    "for img_path in threes_path:\n",
    "    img = Image.open(img_path)\n",
    "    # Add normal image tensor\n",
    "    three_tensors.append(tensor(img))\n",
    "    # Add inverted image tensor\n",
    "    three_tensors.append(invert_image(img))\n",
    "\n",
    "# Process sevens\n",
    "for img_path in sevens_path:\n",
    "    img = Image.open(img_path)\n",
    "    # Add normal image tensor\n",
    "    seven_tensors.append(tensor(img))\n",
    "    # Add inverted image tensor\n",
    "    seven_tensors.append(invert_image(img))\n",
    "\n",
    "print(\"Number of tensors (including inverted):\", len(three_tensors), len(seven_tensors))"
   ]
  },
  {
   "cell_type": "markdown",
   "metadata": {},
   "source": [
    "`show_image()` is a function of fastai, that takes a tensor and returns an image "
   ]
  },
  {
   "cell_type": "code",
   "execution_count": 8,
   "metadata": {},
   "outputs": [
    {
     "data": {
      "text/plain": [
       "<Axes: >"
      ]
     },
     "execution_count": 8,
     "metadata": {},
     "output_type": "execute_result"
    },
    {
     "data": {
      "image/png": "[encoded data removed]",
      "text/plain": [
       "<Figure size 100x100 with 1 Axes>"
      ]
     },
     "metadata": {},
     "output_type": "display_data"
    },
    {
     "data": {
      "image/png": "[encoded data removed]",
      "text/plain": [
       "<Figure size 100x100 with 1 Axes>"
      ]
     },
     "metadata": {},
     "output_type": "display_data"
    },
    {
     "data": {
      "image/png": "[encoded data removed]",
      "text/plain": [
       "<Figure size 100x100 with 1 Axes>"
      ]
     },
     "metadata": {},
     "output_type": "display_data"
    },
    {
     "data": {
      "image/png": "[encoded data removed]",
      "text/plain": [
       "<Figure size 100x100 with 1 Axes>"
      ]
     },
     "metadata": {},
     "output_type": "display_data"
    }
   ],
   "source": [
    "show_image(three_tensors[0])\n",
    "show_image(three_tensors[1])\n",
    "show_image(seven_tensors[0])\n",
    "show_image(seven_tensors[1])"
   ]
  },
  {
   "cell_type": "markdown",
   "metadata": {},
   "source": [
    "stacked tensor of tensors of images. So a 3D tensor. A list of matrices."
   ]
  },
  {
   "cell_type": "code",
   "execution_count": 9,
   "metadata": {},
   "outputs": [],
   "source": [
    "stacked_threes = torch.stack(three_tensors).float() / 255\n",
    "stacked_sevens = torch.stack(seven_tensors).float() / 255\n",
    "# stacked_threes[1], stacked_sevens[1]"
   ]
  },
  {
   "cell_type": "markdown",
   "metadata": {},
   "source": [
    "Creating input data for training set by changing 3D to 2D tensor, a list of vectors. Also concatenating 3 and 7 tensors."
   ]
  },
  {
   "cell_type": "code",
   "execution_count": 10,
   "metadata": {},
   "outputs": [],
   "source": [
    "train_x = torch.cat([stacked_threes, stacked_sevens]).view(-1, 28 * 28)"
   ]
  },
  {
   "cell_type": "markdown",
   "metadata": {},
   "source": [
    "creating labels for training set, by labelling a 3 as 1 or True, and 7 as 0 or False."
   ]
  },
  {
   "cell_type": "code",
   "execution_count": 11,
   "metadata": {},
   "outputs": [],
   "source": [
    "train_y = tensor([1] * len(three_tensors) + [0] * len(seven_tensors)).unsqueeze(1)"
   ]
  },
  {
   "cell_type": "markdown",
   "metadata": {},
   "source": [
    "Creating a `Dataset` object"
   ]
  },
  {
   "cell_type": "code",
   "execution_count": 12,
   "metadata": {},
   "outputs": [],
   "source": [
    "dset = list(zip(train_x, train_y))"
   ]
  },
  {
   "cell_type": "code",
   "execution_count": 13,
   "metadata": {},
   "outputs": [
    {
     "data": {
      "text/plain": [
       "(torch.Size([784]), tensor([1]))"
      ]
     },
     "execution_count": 13,
     "metadata": {},
     "output_type": "execute_result"
    }
   ],
   "source": [
    "x, y = dset[0]\n",
    "x.shape, y"
   ]
  },
  {
   "cell_type": "markdown",
   "metadata": {},
   "source": [
    "Now, we also create a validation dataset"
   ]
  },
  {
   "cell_type": "code",
   "execution_count": 14,
   "metadata": {},
   "outputs": [
    {
     "name": "stdout",
     "output_type": "stream",
     "text": [
      "length of validation datasets: len(valid_3_list)=2020; len(valid_7_list)=2056\n"
     ]
    }
   ],
   "source": [
    "valid_3_list = []\n",
    "valid_7_list = []\n",
    "\n",
    "path_3 = (path)\n",
    "for img_path in (path / \"valid/3\").ls().sorted():\n",
    "    image = Image.open(img_path)\n",
    "    valid_3_list.append(tensor(image))\n",
    "    valid_3_list.append(invert_image(image))\n",
    " \n",
    "for img_path in (path / \"valid/7\").ls().sorted():\n",
    "    image = Image.open(img_path)\n",
    "    valid_7_list.append(tensor(image))\n",
    "    valid_7_list.append(invert_image(image))\n",
    "\n",
    "print(f\"length of validation datasets: {len(valid_3_list)=}; {len(valid_7_list)=}\")"
   ]
  },
  {
   "cell_type": "code",
   "execution_count": 15,
   "metadata": {},
   "outputs": [],
   "source": [
    "# valid_3_tens = torch.stack(\n",
    "#     [tensor(Image.open(o)) for o in (path / \"valid/3\").ls().sorted()]\n",
    "# )\n",
    "# valid_3_tens = valid_3_tens.float() / 255\n",
    "# valid_7_tens = torch.stack(\n",
    "#     [tensor(Image.open(o)) for o in (path / \"valid/7\").ls().sorted()]\n",
    "# )\n",
    "# valid_7_tens = valid_7_tens.float() / 255"
   ]
  },
  {
   "cell_type": "code",
   "execution_count": 16,
   "metadata": {},
   "outputs": [],
   "source": [
    "valid_3_tens = torch.stack(valid_3_list).float() / 255\n",
    "valid_7_tens = torch.stack(valid_7_list).float() / 255"
   ]
  },
  {
   "cell_type": "code",
   "execution_count": 17,
   "metadata": {},
   "outputs": [
    {
     "data": {
      "text/plain": [
       "(torch.Size([28, 28]), <Axes: >, <Axes: >)"
      ]
     },
     "execution_count": 17,
     "metadata": {},
     "output_type": "execute_result"
    },
    {
     "data": {
      "image/png": "[encoded data removed]",
      "text/plain": [
       "<Figure size 100x100 with 1 Axes>"
      ]
     },
     "metadata": {},
     "output_type": "display_data"
    },
    {
     "data": {
      "image/png": "[encoded data removed]",
      "text/plain": [
       "<Figure size 100x100 with 1 Axes>"
      ]
     },
     "metadata": {},
     "output_type": "display_data"
    }
   ],
   "source": [
    "valid_3_tens[0].shape, show_image(valid_3_tens[1]), show_image(valid_3_tens[0])"
   ]
  },
  {
   "cell_type": "markdown",
   "metadata": {},
   "source": [
    "successful!"
   ]
  },
  {
   "cell_type": "code",
   "execution_count": 18,
   "metadata": {},
   "outputs": [],
   "source": [
    "valid_x = torch.cat([valid_3_tens, valid_7_tens]).view(-1, 28 * 28)\n",
    "valid_y = tensor([1] * len(valid_3_tens) + [0] * len(valid_7_tens)).unsqueeze(1)\n",
    "valid_dset = list(zip(valid_x, valid_y))"
   ]
  },
  {
   "cell_type": "code",
   "execution_count": 19,
   "metadata": {},
   "outputs": [
    {
     "data": {
      "text/plain": [
       "(torch.Tensor, 4076)"
      ]
     },
     "execution_count": 19,
     "metadata": {},
     "output_type": "execute_result"
    }
   ],
   "source": [
    "type(valid_dset[0][0]), len(valid_dset)"
   ]
  },
  {
   "cell_type": "markdown",
   "metadata": {},
   "source": [
    "# Model Creation"
   ]
  },
  {
   "cell_type": "markdown",
   "metadata": {},
   "source": [
    "function to initialize random `weights` or `parameters`"
   ]
  },
  {
   "cell_type": "code",
   "execution_count": 20,
   "metadata": {},
   "outputs": [],
   "source": [
    "torch.manual_seed(0)\n",
    "\n",
    "\n",
    "def init_params(size, std=1.0):\n",
    "    return (torch.randn(size) * std).requires_grad_()"
   ]
  },
  {
   "cell_type": "code",
   "execution_count": 21,
   "metadata": {},
   "outputs": [],
   "source": [
    "weights = init_params((28 * 28, 1))  # image size is 28*28"
   ]
  },
  {
   "cell_type": "markdown",
   "metadata": {},
   "source": [
    "since the equation is (check notes on why this is the equation) y = w*x + b, we also initialize a random bias"
   ]
  },
  {
   "cell_type": "code",
   "execution_count": 22,
   "metadata": {},
   "outputs": [],
   "source": [
    "bias = init_params(1)"
   ]
  },
  {
   "cell_type": "code",
   "execution_count": 23,
   "metadata": {},
   "outputs": [
    {
     "data": {
      "text/plain": [
       "(torch.Tensor, torch.Size([24792, 784]))"
      ]
     },
     "execution_count": 23,
     "metadata": {},
     "output_type": "execute_result"
    }
   ],
   "source": [
    "type(train_x), train_x.shape"
   ]
  },
  {
   "cell_type": "markdown",
   "metadata": {},
   "source": [
    "Create the model"
   ]
  },
  {
   "cell_type": "code",
   "execution_count": 24,
   "metadata": {},
   "outputs": [
    {
     "data": {
      "text/plain": [
       "tensor([[ 5.8740],\n",
       "        [44.5086],\n",
       "        [-2.5629],\n",
       "        ...,\n",
       "        [39.6594],\n",
       "        [ 9.5250],\n",
       "        [40.8575]], grad_fn=<AddBackward0>)"
      ]
     },
     "execution_count": 24,
     "metadata": {},
     "output_type": "execute_result"
    }
   ],
   "source": [
    "def linear1(xb):\n",
    "    return xb @ weights + bias\n",
    "\n",
    "\n",
    "preds = linear1(train_x)\n",
    "preds"
   ]
  },
  {
   "cell_type": "markdown",
   "metadata": {},
   "source": [
    "for calculating accuracy we create `corrects` tensor"
   ]
  },
  {
   "cell_type": "code",
   "execution_count": 25,
   "metadata": {},
   "outputs": [
    {
     "data": {
      "text/plain": [
       "tensor([[ True],\n",
       "        [ True],\n",
       "        [False],\n",
       "        ...,\n",
       "        [False],\n",
       "        [False],\n",
       "        [False]])"
      ]
     },
     "execution_count": 25,
     "metadata": {},
     "output_type": "execute_result"
    }
   ],
   "source": [
    "corrects = (preds > 0.0).float() == train_y\n",
    "corrects"
   ]
  },
  {
   "cell_type": "code",
   "execution_count": 26,
   "metadata": {},
   "outputs": [
    {
     "data": {
      "text/plain": [
       "0.4847128093242645"
      ]
     },
     "execution_count": 26,
     "metadata": {},
     "output_type": "execute_result"
    }
   ],
   "source": [
    "corrects.float().mean().item()"
   ]
  },
  {
   "cell_type": "markdown",
   "metadata": {},
   "source": [
    "for loss function, basic idea is,"
   ]
  },
  {
   "cell_type": "code",
   "execution_count": 27,
   "metadata": {},
   "outputs": [],
   "source": [
    "def mnist_loss(predictions, targets):\n",
    "    return torch.where(targets == 1, 1 - predictions, predictions).mean()"
   ]
  },
  {
   "cell_type": "markdown",
   "metadata": {},
   "source": [
    "Not going to use the above function, since pytorch already provides an in-built sigmoid function"
   ]
  },
  {
   "cell_type": "code",
   "execution_count": 28,
   "metadata": {},
   "outputs": [],
   "source": [
    "def mnist_loss(predictions, targets):\n",
    "    predictions = predictions.sigmoid()\n",
    "    return torch.where(targets == 1, 1 - predictions, predictions).mean()"
   ]
  },
  {
   "cell_type": "markdown",
   "metadata": {},
   "source": [
    "creating a dataloader for batching of test dataset"
   ]
  },
  {
   "cell_type": "code",
   "execution_count": 29,
   "metadata": {},
   "outputs": [
    {
     "data": {
      "text/plain": [
       "(torch.Size([256, 784]), torch.Size([256, 1]))"
      ]
     },
     "execution_count": 29,
     "metadata": {},
     "output_type": "execute_result"
    }
   ],
   "source": [
    "dl = DataLoader(dset, batch_size=256)\n",
    "xb, yb = first(dl)\n",
    "xb.shape, yb.shape"
   ]
  },
  {
   "cell_type": "markdown",
   "metadata": {},
   "source": [
    "same for validation set"
   ]
  },
  {
   "cell_type": "code",
   "execution_count": 30,
   "metadata": {},
   "outputs": [],
   "source": [
    "valid_dl = DataLoader(valid_dset, batch_size=256)"
   ]
  },
  {
   "cell_type": "markdown",
   "metadata": {},
   "source": [
    "**putting everything together**\n",
    "the process will be something like this\n",
    "\n",
    "```for x,y in dl:\n",
    "    pred = model(x)\n",
    "    loss = loss_func(pred, y)\n",
    "    loss.backward()\n",
    "    parameters -= parameters.grad*lr\n",
    "```"
   ]
  },
  {
   "cell_type": "code",
   "execution_count": 31,
   "metadata": {},
   "outputs": [],
   "source": [
    "def calc_grad(xb, yb, model):\n",
    "    preds = model(xb)\n",
    "    loss = mnist_loss(preds, yb)\n",
    "    loss.backward()"
   ]
  },
  {
   "cell_type": "markdown",
   "metadata": {},
   "source": [
    "one epoch will be,"
   ]
  },
  {
   "cell_type": "code",
   "execution_count": 32,
   "metadata": {},
   "outputs": [],
   "source": [
    "def train_epoch(model, lr, params):\n",
    "    for xb, yb in dl:  # for each batch in dataloader\n",
    "        calc_grad(xb, yb, model)\n",
    "        for p in params:\n",
    "            p.data -= p.grad * lr\n",
    "            p.grad.zero_()"
   ]
  },
  {
   "cell_type": "markdown",
   "metadata": {},
   "source": [
    "for calculating accuracy of a batch"
   ]
  },
  {
   "cell_type": "code",
   "execution_count": 33,
   "metadata": {},
   "outputs": [],
   "source": [
    "def batch_accuracy(xb, yb):  # here xb and yb denote a single batch of dataset\n",
    "    preds = xb.sigmoid()\n",
    "    correct = (preds > 0.5) == yb  # correct is a boolean array\n",
    "    return (\n",
    "        correct.float().mean()\n",
    "    )  # converting correct boolean to float and calculating mean"
   ]
  },
  {
   "cell_type": "markdown",
   "metadata": {},
   "source": [
    "putting batches together"
   ]
  },
  {
   "cell_type": "code",
   "execution_count": 34,
   "metadata": {},
   "outputs": [],
   "source": [
    "def validate_epoch(model):\n",
    "    accs = [\n",
    "        batch_accuracy(model(xb), yb) for xb, yb in valid_dl\n",
    "    ]  # for each batch in dataloader\n",
    "    return round(torch.stack(accs).mean().item(), 4)"
   ]
  },
  {
   "cell_type": "markdown",
   "metadata": {},
   "source": [
    "first train for one epoch"
   ]
  },
  {
   "cell_type": "code",
   "execution_count": 35,
   "metadata": {},
   "outputs": [
    {
     "data": {
      "text/plain": [
       "0.5632"
      ]
     },
     "execution_count": 35,
     "metadata": {},
     "output_type": "execute_result"
    }
   ],
   "source": [
    "lr = 1.0\n",
    "params = weights, bias\n",
    "train_epoch(linear1, lr, params)\n",
    "validate_epoch(linear1)"
   ]
  },
  {
   "cell_type": "markdown",
   "metadata": {},
   "source": [
    "then setup a loop"
   ]
  },
  {
   "cell_type": "code",
   "execution_count": 36,
   "metadata": {},
   "outputs": [
    {
     "name": "stdout",
     "output_type": "stream",
     "text": [
      "0.5351 0.591 0.6977 0.7079 0.6977 0.7079 0.714 0.7177 0.714 0.7177 0.7192 0.7209 0.7192 0.7209 0.7226 0.7228 0.7226 0.7228 0.7233 0.7245 0.7233 0.7245 0.7248 0.7253 0.7248 0.7253 0.7258 0.7268 0.7258 0.7268 0.728 0.7285 0.728 0.7285 0.7287 0.729 0.7287 0.729 0.729 0.7297 0.729 0.7297 0.73 0.73 0.73 0.73 0.73 0.73 0.73 0.73 0.7304 0.7307 0.7304 0.7307 0.7309 0.7309 0.7309 0.7309 0.7309 0.7317 0.7309 0.7317 0.7317 0.7319 0.7317 0.7319 0.7322 0.7322 0.7322 0.7322 0.7322 0.7324 0.7322 0.7324 0.7324 0.7326 0.7324 0.7326 "
     ]
    }
   ],
   "source": [
    "for i in range(40):\n",
    "    train_epoch(linear1, lr, params)\n",
    "    print(validate_epoch(linear1), end=\" \")"
   ]
  },
  {
   "cell_type": "markdown",
   "metadata": {},
   "source": [
    "we can see that the accuracy is certainly getting better"
   ]
  },
  {
   "cell_type": "markdown",
   "metadata": {},
   "source": [
    "create a function to predict output for an image"
   ]
  },
  {
   "cell_type": "code",
   "execution_count": 37,
   "metadata": {},
   "outputs": [],
   "source": [
    "def final_predict(image_tensor):\n",
    "    out = linear1(image_tensor)\n",
    "    if out > 0.5:\n",
    "        return 3\n",
    "    return 7"
   ]
  },
  {
   "cell_type": "code",
   "execution_count": 38,
   "metadata": {},
   "outputs": [],
   "source": [
    "def accuracy(dl):\n",
    "    # for xb,yb in dl:\n",
    "    #     corrects = (linear1(xb).sigmoid()>0.5).float()\n",
    "\n",
    "    corrects = [(linear1(xb).sigmoid() > 0.5).float() for xb, yb in dl]\n",
    "    return torch.stack(corrects).float().mean()"
   ]
  },
  {
   "cell_type": "code",
   "execution_count": 39,
   "metadata": {},
   "outputs": [],
   "source": [
    "def save_model(weights, bias, filename=\"mnist_model.pkl\"):\n",
    "    model_params = {\"weights\": weights.detach().numpy(), \"bias\": bias.detach().numpy()}\n",
    "    with open(filename, \"wb\") as f:\n",
    "        pickle.dump(model_params, f)\n",
    "    print(f\"Model saved to {filename}\")"
   ]
  },
  {
   "cell_type": "code",
   "execution_count": 40,
   "metadata": {},
   "outputs": [],
   "source": [
    "def load_model(filename=\"mnist_model.pkl\"):\n",
    "    with open(filename, \"rb\") as f:\n",
    "        model_params = pickle.load(f)\n",
    "\n",
    "    # Convert numpy arrays back to tensors and set requires_grad\n",
    "    loaded_weights = torch.tensor(model_params[\"weights\"], requires_grad=True)\n",
    "    loaded_bias = torch.tensor(model_params[\"bias\"], requires_grad=True)\n",
    "\n",
    "    return loaded_weights, loaded_bias"
   ]
  },
  {
   "cell_type": "code",
   "execution_count": 41,
   "metadata": {},
   "outputs": [
    {
     "name": "stdout",
     "output_type": "stream",
     "text": [
      "Model saved to ../models/mnist_model.pkl\n"
     ]
    }
   ],
   "source": [
    "# Save the trained model\n",
    "save_model(weights, bias, \"../models/mnist_model.pkl\")"
   ]
  },
  {
   "cell_type": "code",
   "execution_count": 42,
   "metadata": {},
   "outputs": [],
   "source": [
    "def predict_from_file(image_path):\n",
    "    try:\n",
    "        # Load and preprocess the image\n",
    "        img = Image.open(image_path).convert(\"L\")  # Convert to grayscale\n",
    "        img = img.resize((28, 28))  # Resize to match MNIST format\n",
    "\n",
    "        # Convert to tensor and normalize\n",
    "        img_tensor = tensor(np.array(img)).float() / 255\n",
    "        img_tensor = img_tensor.view(-1, 28 * 28)  # Reshape to match model input\n",
    "\n",
    "        # Get prediction\n",
    "        out = linear1(img_tensor)\n",
    "        prediction = 3 if out.item() > 0.5 else 7\n",
    "        confidence = torch.sigmoid(out).item()\n",
    "        confidence = confidence if prediction == 3 else 1 - confidence\n",
    "\n",
    "        print(f\"Predicted digit: {prediction}\")\n",
    "        print(f\"Confidence: {confidence:.2%}\")\n",
    "        return prediction, confidence\n",
    "\n",
    "    except Exception as e:\n",
    "        print(f\"Error processing image: {str(e)}\")\n",
    "        return None, None"
   ]
  },
  {
   "cell_type": "code",
   "execution_count": 43,
   "metadata": {},
   "outputs": [
    {
     "name": "stdout",
     "output_type": "stream",
     "text": [
      "Predicted digit: 7\n",
      "Confidence: 100.00%\n"
     ]
    },
    {
     "data": {
      "text/plain": [
       "<Axes: >"
      ]
     },
     "execution_count": 43,
     "metadata": {},
     "output_type": "execute_result"
    },
    {
     "data": {
      "image/png": "[encoded data removed]",
      "text/plain": [
       "<Figure size 100x100 with 1 Axes>"
      ]
     },
     "metadata": {},
     "output_type": "display_data"
    }
   ],
   "source": [
    "# Example usage:\n",
    "test_image_path = str(\n",
    "    path / \"valid/7/328.png\"\n",
    ")  # Using a test image from the validation set\n",
    "prediction, confidence = predict_from_file(test_image_path)\n",
    "\n",
    "# Display the image\n",
    "img = Image.open(test_image_path)\n",
    "show_image(tensor(img))"
   ]
  },
  {
   "cell_type": "code",
   "execution_count": null,
   "metadata": {},
   "outputs": [],
   "source": []
  }
 ],
 "metadata": {
  "kernelspec": {
   "display_name": "mnistdigitclassifier-git",
   "language": "python",
   "name": "python3"
  },
  "language_info": {
   "codemirror_mode": {
    "name": "ipython",
    "version": 3
   },
   "file_extension": ".py",
   "mimetype": "text/x-python",
   "name": "python",
   "nbconvert_exporter": "python",
   "pygments_lexer": "ipython3",
   "version": "3.12.3"
  }
 },
 "nbformat": 4,
 "nbformat_minor": 4
}
